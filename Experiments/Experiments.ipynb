{
 "cells": [
  {
   "cell_type": "markdown",
   "metadata": {},
   "source": [
    "# Evaluating ExCeeD with respect to the empirical frequencies of class predictions."
   ]
  },
  {
   "cell_type": "code",
   "execution_count": 1,
   "metadata": {},
   "outputs": [],
   "source": [
    "%matplotlib inline\n",
    "%reload_ext autoreload\n",
    "%autoreload 2\n",
    "\n",
    "import numpy as np\n",
    "import matplotlib\n",
    "import matplotlib.pyplot as plt\n",
    "import pandas as pd\n",
    "import random\n",
    "\n",
    "from pyod.models.knn import KNN\n",
    "from pyod.models.iforest import IForest\n",
    "from pyod.models.ocsvm import OCSVM\n",
    "\n",
    "from ExCeeD import *\n",
    "from evaluate_ExCeeD import *\n",
    "from scipy.io import arff\n",
    "\n",
    "def ignore_warnings():\n",
    "    import warnings\n",
    "    warnings.simplefilter(action='ignore', category=FutureWarning)\n",
    "    warnings.simplefilter(action='ignore', category=Warning)\n",
    "\n",
    "ignore_warnings()"
   ]
  },
  {
   "cell_type": "markdown",
   "metadata": {},
   "source": [
    "# Evaluating ExCeeD & state-of-the-art methods on a Benchmark Dataset"
   ]
  },
  {
   "cell_type": "code",
   "execution_count": 2,
   "metadata": {
    "scrolled": true
   },
   "outputs": [
    {
     "name": "stdout",
     "output_type": "stream",
     "text": [
      "L2 error between confidence methods and empirical frequencies:\n"
     ]
    },
    {
     "data": {
      "text/html": [
       "<div>\n",
       "<style scoped>\n",
       "    .dataframe tbody tr th:only-of-type {\n",
       "        vertical-align: middle;\n",
       "    }\n",
       "\n",
       "    .dataframe tbody tr th {\n",
       "        vertical-align: top;\n",
       "    }\n",
       "\n",
       "    .dataframe thead th {\n",
       "        text-align: right;\n",
       "    }\n",
       "</style>\n",
       "<table border=\"1\" class=\"dataframe\">\n",
       "  <thead>\n",
       "    <tr style=\"text-align: right;\">\n",
       "      <th></th>\n",
       "      <th>ExCeeD</th>\n",
       "      <th>ExCeeD_sp</th>\n",
       "      <th>Squash</th>\n",
       "      <th>Linear</th>\n",
       "      <th>Unify</th>\n",
       "      <th>LogCal</th>\n",
       "      <th>IsoCal</th>\n",
       "      <th>BetaCal</th>\n",
       "      <th>Baseline</th>\n",
       "    </tr>\n",
       "  </thead>\n",
       "  <tbody>\n",
       "    <tr>\n",
       "      <th>0</th>\n",
       "      <td>0.002</td>\n",
       "      <td>0.3761</td>\n",
       "      <td>0.3761</td>\n",
       "      <td>0.3122</td>\n",
       "      <td>0.0384</td>\n",
       "      <td>0.0064</td>\n",
       "      <td>0.0262</td>\n",
       "      <td>0.0216</td>\n",
       "      <td>0.0282</td>\n",
       "    </tr>\n",
       "  </tbody>\n",
       "</table>\n",
       "</div>"
      ],
      "text/plain": [
       "   ExCeeD  ExCeeD_sp  Squash  Linear   Unify  LogCal  IsoCal  BetaCal  \\\n",
       "0   0.002     0.3761  0.3761  0.3122  0.0384  0.0064  0.0262   0.0216   \n",
       "\n",
       "   Baseline  \n",
       "0    0.0282  "
      ]
     },
     "execution_count": 2,
     "metadata": {},
     "output_type": "execute_result"
    }
   ],
   "source": [
    "data = arff.loadarff('/Benchmark_Datasets/WBC_norm_v02.arff')#WBC_norm_v02.arff\n",
    "df = pd.DataFrame(data[0])\n",
    "df['outlier'] = [string.decode(\"utf-8\") for string in df['outlier'].values]\n",
    "y = np.asarray([1 if string == 'yes' else 0 for string in df['outlier'].values])\n",
    "X = df[df.columns[:-2]].values #insert the effective features (no response label y)\n",
    "\n",
    "model = 'KNN' #otherwise 'IForest', 'OCSVM'\n",
    "\n",
    "L2_error = compute_confidence_error(model, X, y, saveresults = True) #dictionary with the L2 errors\n",
    "\n",
    "print('L2 error between confidence methods and empirical frequencies:')\n",
    "L2_error"
   ]
  },
  {
   "cell_type": "code",
   "execution_count": 3,
   "metadata": {},
   "outputs": [
    {
     "name": "stdout",
     "output_type": "stream",
     "text": [
      "L2 error between confidence methods and empirical frequencies:\n"
     ]
    },
    {
     "data": {
      "text/html": [
       "<div>\n",
       "<style scoped>\n",
       "    .dataframe tbody tr th:only-of-type {\n",
       "        vertical-align: middle;\n",
       "    }\n",
       "\n",
       "    .dataframe tbody tr th {\n",
       "        vertical-align: top;\n",
       "    }\n",
       "\n",
       "    .dataframe thead th {\n",
       "        text-align: right;\n",
       "    }\n",
       "</style>\n",
       "<table border=\"1\" class=\"dataframe\">\n",
       "  <thead>\n",
       "    <tr style=\"text-align: right;\">\n",
       "      <th></th>\n",
       "      <th>ExCeeD</th>\n",
       "      <th>ExCeeD_sp</th>\n",
       "      <th>Squash</th>\n",
       "      <th>Linear</th>\n",
       "      <th>Unify</th>\n",
       "      <th>LogCal</th>\n",
       "      <th>IsoCal</th>\n",
       "      <th>BetaCal</th>\n",
       "      <th>Baseline</th>\n",
       "    </tr>\n",
       "  </thead>\n",
       "  <tbody>\n",
       "    <tr>\n",
       "      <th>0</th>\n",
       "      <td>0.000518</td>\n",
       "      <td>0.07939</td>\n",
       "      <td>0.463064</td>\n",
       "      <td>0.45146</td>\n",
       "      <td>0.154835</td>\n",
       "      <td>0.171454</td>\n",
       "      <td>0.184984</td>\n",
       "      <td>0.157139</td>\n",
       "      <td>0.007186</td>\n",
       "    </tr>\n",
       "  </tbody>\n",
       "</table>\n",
       "</div>"
      ],
      "text/plain": [
       "     ExCeeD  ExCeeD_sp    Squash   Linear     Unify    LogCal    IsoCal  \\\n",
       "0  0.000518    0.07939  0.463064  0.45146  0.154835  0.171454  0.184984   \n",
       "\n",
       "    BetaCal  Baseline  \n",
       "0  0.157139  0.007186  "
      ]
     },
     "execution_count": 3,
     "metadata": {},
     "output_type": "execute_result"
    }
   ],
   "source": [
    "data = arff.loadarff('/Benchmark_Datasets/Pima_withoutdupl_norm_20_v02.arff')#Pima_withoutdupl_norm_20_v02.arff\n",
    "df = pd.DataFrame(data[0])\n",
    "df['outlier'] = [string.decode(\"utf-8\") for string in df['outlier'].values]\n",
    "y = np.asarray([1 if string == 'yes' else 0 for string in df['outlier'].values])\n",
    "X = df[df.columns[:-2]].values #insert the effective features (no response label y)\n",
    "\n",
    "model = 'KNN' #otherwise 'IForest', 'OCSVM'\n",
    "\n",
    "L2_error = compute_confidence_error(model, X, y, saveresults = False) #dictionary with the L2 errors\n",
    "\n",
    "print('L2 error between confidence methods and empirical frequencies:')\n",
    "L2_error"
   ]
  },
  {
   "cell_type": "code",
   "execution_count": 4,
   "metadata": {},
   "outputs": [
    {
     "name": "stdout",
     "output_type": "stream",
     "text": [
      "L2 error between confidence methods and empirical frequencies:\n"
     ]
    },
    {
     "data": {
      "text/html": [
       "<div>\n",
       "<style scoped>\n",
       "    .dataframe tbody tr th:only-of-type {\n",
       "        vertical-align: middle;\n",
       "    }\n",
       "\n",
       "    .dataframe tbody tr th {\n",
       "        vertical-align: top;\n",
       "    }\n",
       "\n",
       "    .dataframe thead th {\n",
       "        text-align: right;\n",
       "    }\n",
       "</style>\n",
       "<table border=\"1\" class=\"dataframe\">\n",
       "  <thead>\n",
       "    <tr style=\"text-align: right;\">\n",
       "      <th></th>\n",
       "      <th>ExCeeD</th>\n",
       "      <th>ExCeeD_sp</th>\n",
       "      <th>Squash</th>\n",
       "      <th>Linear</th>\n",
       "      <th>Unify</th>\n",
       "      <th>LogCal</th>\n",
       "      <th>IsoCal</th>\n",
       "      <th>BetaCal</th>\n",
       "      <th>Baseline</th>\n",
       "    </tr>\n",
       "  </thead>\n",
       "  <tbody>\n",
       "    <tr>\n",
       "      <th>0</th>\n",
       "      <td>0.000476</td>\n",
       "      <td>0.0104</td>\n",
       "      <td>0.479484</td>\n",
       "      <td>0.258788</td>\n",
       "      <td>0.145641</td>\n",
       "      <td>0.070145</td>\n",
       "      <td>0.108227</td>\n",
       "      <td>0.068627</td>\n",
       "      <td>0.004702</td>\n",
       "    </tr>\n",
       "  </tbody>\n",
       "</table>\n",
       "</div>"
      ],
      "text/plain": [
       "     ExCeeD  ExCeeD_sp    Squash    Linear     Unify    LogCal    IsoCal  \\\n",
       "0  0.000476     0.0104  0.479484  0.258788  0.145641  0.070145  0.108227   \n",
       "\n",
       "    BetaCal  Baseline  \n",
       "0  0.068627  0.004702  "
      ]
     },
     "execution_count": 4,
     "metadata": {},
     "output_type": "execute_result"
    }
   ],
   "source": [
    "data = arff.loadarff('/Benchmark_Datasets/Ionosphere_withoutdupl_norm.arff')#Ionosphere_withoutdupl_norm.arff\n",
    "df = pd.DataFrame(data[0])\n",
    "df['outlier'] = [string.decode(\"utf-8\") for string in df['outlier'].values]\n",
    "y = np.asarray([1 if string == 'yes' else 0 for string in df['outlier'].values])\n",
    "X = df[df.columns[:-2]].values #insert the effective features (no response label y)\n",
    "\n",
    "model = 'KNN' #otherwise 'IForest', 'OCSVM'\n",
    "\n",
    "L2_error = compute_confidence_error(model, X, y, saveresults = False) #dictionary with the L2 errors\n",
    "\n",
    "print('L2 error between confidence methods and empirical frequencies:')\n",
    "L2_error"
   ]
  },
  {
   "cell_type": "code",
   "execution_count": null,
   "metadata": {},
   "outputs": [],
   "source": []
  },
  {
   "cell_type": "code",
   "execution_count": null,
   "metadata": {},
   "outputs": [],
   "source": []
  }
 ],
 "metadata": {
  "kernelspec": {
   "display_name": "Python 3",
   "language": "python",
   "name": "python3"
  },
  "language_info": {
   "codemirror_mode": {
    "name": "ipython",
    "version": 3
   },
   "file_extension": ".py",
   "mimetype": "text/x-python",
   "name": "python",
   "nbconvert_exporter": "python",
   "pygments_lexer": "ipython3",
   "version": "3.7.5"
  }
 },
 "nbformat": 4,
 "nbformat_minor": 2
}
